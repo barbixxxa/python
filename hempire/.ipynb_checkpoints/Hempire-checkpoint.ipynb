{
 "cells": [
  {
   "cell_type": "markdown",
   "metadata": {},
   "source": [
    "#4 cookies - 3 manteiga + 6 skunk\n",
    "#4 torta - 3 farinha + 12 arabe\n",
    "#4 donut - 3 marsh + 8 azul\n",
    "\n",
    "#2 manteiga - 6 arabe\n",
    "#2 farinha - 6 skunk\n",
    "#2 marsh - 5 azul\n",
    "\n",
    "#2 kief - 8 azul"
   ]
  },
  {
   "cell_type": "code",
   "execution_count": 1,
   "metadata": {},
   "outputs": [],
   "source": [
    "class Arabe:\n",
    "    def __init__(self, qtd = 1):\n",
    "        self.name = \"Afghani\"\n",
    "        self. qtd = qtd\n",
    "        \n",
    "    def __str__(self):\n",
    "        return self.name    "
   ]
  },
  {
   "cell_type": "code",
   "execution_count": 2,
   "metadata": {},
   "outputs": [],
   "source": [
    "class Skunk:\n",
    "    def __init__(self, qtd = 1):\n",
    "        self.name = \"Skunk Nª1\"\n",
    "        self.qtd = qtd\n",
    "        \n",
    "    def __str__(self):\n",
    "        return self.name"
   ]
  },
  {
   "cell_type": "code",
   "execution_count": 3,
   "metadata": {},
   "outputs": [],
   "source": [
    "class Azul:\n",
    "    def __init__(self, qtd = 1):\n",
    "        self.name = \"Northern Lights\"\n",
    "        self.qtd = qtd\n",
    "        \n",
    "    def __str__(self):\n",
    "        return self.name"
   ]
  },
  {
   "cell_type": "code",
   "execution_count": 4,
   "metadata": {},
   "outputs": [],
   "source": [
    "class Cachorro:\n",
    "    def __init__(self, qtd = 1):\n",
    "        self.name = \"Chemdawg\"\n",
    "        self.qtd = qtd\n",
    "        \n",
    "    def __str__(self):\n",
    "        return self.name"
   ]
  },
  {
   "cell_type": "code",
   "execution_count": 5,
   "metadata": {},
   "outputs": [],
   "source": [
    "class Rosa:\n",
    "    def __init__(self, qtd = 1):\n",
    "        self.name = \"Hindu Kush\"\n",
    "        self.qtd = qtd\n",
    "        \n",
    "    def __str__(self):\n",
    "        return self.name"
   ]
  },
  {
   "cell_type": "code",
   "execution_count": 6,
   "metadata": {},
   "outputs": [],
   "source": [
    "class Vermelha:\n",
    "    def __init__(self, qtd = 1):\n",
    "        self.name = \"Sour Diesel\"\n",
    "        self.qtd = qtd\n",
    "        \n",
    "    def __str__(self):\n",
    "        return self.name"
   ]
  },
  {
   "cell_type": "code",
   "execution_count": 7,
   "metadata": {},
   "outputs": [],
   "source": [
    "class Manteiga:\n",
    "    \n",
    "    def __init__(self, quantidade = 1):\n",
    "        self.name = 'Manteiga'\n",
    "        self.qtd = quantidade\n",
    "        self.plant = Arabe(6 * quantidade)\n",
    "\n",
    "    def __str__(self):\n",
    "        return \"%s %s precisa de: %s %s\" %(self.qtd, self.name, self.plant.qtd, self.plant.name)\n",
    "    \n",
    "    def getManteiga(self):\n",
    "        return (self.plant.qtd, self.plant.name)"
   ]
  },
  {
   "cell_type": "code",
   "execution_count": 8,
   "metadata": {},
   "outputs": [
    {
     "name": "stdout",
     "output_type": "stream",
     "text": [
      "30 Manteiga precisa de: 180 Afghani\n"
     ]
    },
    {
     "data": {
      "text/plain": [
       "(180, 'Afghani')"
      ]
     },
     "execution_count": 8,
     "metadata": {},
     "output_type": "execute_result"
    }
   ],
   "source": [
    "m = Manteiga(30)\n",
    "print(m)\n",
    "m.getManteiga()"
   ]
  },
  {
   "cell_type": "code",
   "execution_count": 9,
   "metadata": {},
   "outputs": [],
   "source": [
    "class Farinha:\n",
    "    \n",
    "    def __init__(self, quantidade = 1):\n",
    "        self.name = 'Farinha'\n",
    "        self.qtd = quantidade\n",
    "        self.plant = Skunk(6 * quantidade)\n",
    "\n",
    "    def __str__(self):\n",
    "        return \"%s %s precisa de: %s %s\" %(self.qtd, self.name, self.plant.qtd, self.plant.name)\n",
    "    \n",
    "    def getFarinha(self):\n",
    "        return (self.plant.qtd, self.plant.name)"
   ]
  },
  {
   "cell_type": "code",
   "execution_count": 10,
   "metadata": {},
   "outputs": [
    {
     "name": "stdout",
     "output_type": "stream",
     "text": [
      "30 Farinha precisa de: 180 Skunk Nª1\n"
     ]
    },
    {
     "data": {
      "text/plain": [
       "(180, 'Skunk Nª1')"
      ]
     },
     "execution_count": 10,
     "metadata": {},
     "output_type": "execute_result"
    }
   ],
   "source": [
    "f = Farinha(30)\n",
    "print(f)\n",
    "f.getFarinha()"
   ]
  },
  {
   "cell_type": "code",
   "execution_count": 11,
   "metadata": {},
   "outputs": [],
   "source": [
    "class Marshmellow:\n",
    "    \n",
    "    def __init__(self, quantidade = 1):\n",
    "        self.name = 'Marijmellow'\n",
    "        self.qtd = quantidade\n",
    "        self.plant = Azul(5 * quantidade)\n",
    "\n",
    "    def __str__(self):\n",
    "        return \"%s %s precisa de: %s %s\" %(self.qtd, self.name, self.plant.qtd, self.plant.name)\n",
    "    \n",
    "    def getMarsh(self):\n",
    "        return (self.plant.qtd, self.plant.name)"
   ]
  },
  {
   "cell_type": "code",
   "execution_count": 12,
   "metadata": {},
   "outputs": [
    {
     "name": "stdout",
     "output_type": "stream",
     "text": [
      "30 Marijmellow precisa de: 150 Northern Lights\n"
     ]
    },
    {
     "data": {
      "text/plain": [
       "(150, 'Northern Lights')"
      ]
     },
     "execution_count": 12,
     "metadata": {},
     "output_type": "execute_result"
    }
   ],
   "source": [
    "m = Marshmellow(30)\n",
    "print(m)\n",
    "m.getMarsh()"
   ]
  },
  {
   "cell_type": "code",
   "execution_count": 13,
   "metadata": {},
   "outputs": [],
   "source": [
    "class Cookie:\n",
    "    \n",
    "    def __init__(self, quantidade = 1):\n",
    "        self.name = 'Cookie'\n",
    "        self.qtd = quantidade\n",
    "        self.plant = Skunk(6 * quantidade)\n",
    "        self.especial = Manteiga(3 * quantidade)\n",
    "    \n",
    "    def __str__(self):\n",
    "        return \"%s %s precisa de: %s %s + %s %s (%s %s)\" %(self.qtd, self.name, self.plant.qtd, self.plant.name, self.especial.qtd, self.especial.name, self.especial.plant.qtd, self.especial.plant.name)\n",
    "    \n",
    "    def getCookie(self):\n",
    "        return (self.plant.qtd, self.plant.name, self.especial.plant.qtd, self.especial.plant.name)\n",
    "    "
   ]
  },
  {
   "cell_type": "code",
   "execution_count": 15,
   "metadata": {},
   "outputs": [
    {
     "name": "stdout",
     "output_type": "stream",
     "text": [
      "10 Cookie precisa de: 60 Skunk Nª1 + 30 Manteiga (180 Afghani)\n",
      "(60, 'Skunk Nª1', 180, 'Afghani')\n"
     ]
    }
   ],
   "source": [
    "c = Cookie(10)\n",
    "print(c)\n",
    "r = c.getCookie()\n",
    "print(r)"
   ]
  },
  {
   "cell_type": "code",
   "execution_count": 18,
   "metadata": {},
   "outputs": [],
   "source": [
    "class Torta:\n",
    "    \n",
    "    def __init__(self, quantidade = 1):\n",
    "        self.name = 'Tortaconha'\n",
    "        self.qtd = quantidade\n",
    "        self.plant = Arabe(12 * quantidade)\n",
    "        self.especial = Farinha(3 * quantidade)\n",
    "    \n",
    "    def __str__(self):\n",
    "        return \"%s %s precisa de: %s %s + %s %s (%s %s)\" %(self.qtd, self.name, self.plant.qtd, self.plant.name, self.especial.qtd, self.especial.name, self.especial.plant.qtd, self.especial.plant.name)\n",
    "    \n",
    "    def getTorta(self):\n",
    "        return (self.plant.qtd, self.plant.name, self.especial.plant.qtd, self.especial.plant.name)\n",
    "    "
   ]
  },
  {
   "cell_type": "code",
   "execution_count": 20,
   "metadata": {},
   "outputs": [
    {
     "name": "stdout",
     "output_type": "stream",
     "text": [
      "10 Tortaconha precisa de: 120 Afghani + 30 Farinha (180 Skunk Nª1)\n"
     ]
    },
    {
     "data": {
      "text/plain": [
       "(120, 'Afghani', 180, 'Skunk Nª1')"
      ]
     },
     "execution_count": 20,
     "metadata": {},
     "output_type": "execute_result"
    }
   ],
   "source": [
    "t = Torta(10)\n",
    "print(t)\n",
    "t.getTorta()"
   ]
  },
  {
   "cell_type": "code",
   "execution_count": 21,
   "metadata": {},
   "outputs": [],
   "source": [
    "class Donut:\n",
    "    \n",
    "    def __init__(self, quantidade = 1):\n",
    "        self.name = 'Donut'\n",
    "        self.qtd = quantidade\n",
    "        self.plant = Azul(8 * quantidade)\n",
    "        self.especial = Marshmellow(3 * quantidade)\n",
    "    \n",
    "    def __str__(self):\n",
    "        return \"%s %s precisa de: %s %s + %s %s (%s %s)\" %(self.qtd, self.name, self.plant.qtd, self.plant.name, self.especial.qtd, self.especial.name, self.especial.plant.qtd, self.especial.plant.name)\n",
    "    \n",
    "    def getDonut(self):\n",
    "        return (self.plant.qtd, self.plant.name, self.especial.plant.qtd, self.especial.plant.name)\n",
    "    "
   ]
  },
  {
   "cell_type": "code",
   "execution_count": 23,
   "metadata": {},
   "outputs": [
    {
     "name": "stdout",
     "output_type": "stream",
     "text": [
      "10 Donut precisa de: 80 Northern Lights + 30 Marijmellow (150 Northern Lights)\n"
     ]
    },
    {
     "data": {
      "text/plain": [
       "(80, 'Northern Lights', 150, 'Northern Lights')"
      ]
     },
     "execution_count": 23,
     "metadata": {},
     "output_type": "execute_result"
    }
   ],
   "source": [
    "d = Donut(10)\n",
    "print(d)\n",
    "d.getDonut()"
   ]
  },
  {
   "cell_type": "code",
   "execution_count": 25,
   "metadata": {},
   "outputs": [],
   "source": [
    "class Kief:\n",
    "    \n",
    "    def __init__(self, quantidade = 1):\n",
    "        self.name = 'Kief'\n",
    "        self.qtd = quantidade\n",
    "        self.plant = Azul(8 * quantidade)\n",
    "\n",
    "    def __str__(self):\n",
    "        return \"%s %s precisa de: %s %s\" %(self.qtd, self.name, self.plant.qtd, self.plant.name)\n",
    "    \n",
    "    def getKief(self):\n",
    "        return (self.plant.qtd, self.plant.name)"
   ]
  },
  {
   "cell_type": "code",
   "execution_count": 26,
   "metadata": {},
   "outputs": [
    {
     "name": "stdout",
     "output_type": "stream",
     "text": [
      "10 Kief precisa de: 80 Northern Lights\n"
     ]
    },
    {
     "data": {
      "text/plain": [
       "(80, 'Northern Lights')"
      ]
     },
     "execution_count": 26,
     "metadata": {},
     "output_type": "execute_result"
    }
   ],
   "source": [
    "k = Kief(10)\n",
    "print(k)\n",
    "k.getKief()"
   ]
  },
  {
   "cell_type": "code",
   "execution_count": null,
   "metadata": {},
   "outputs": [],
   "source": [
    "while True:\n",
    "    try:\n",
    "        cQtd = int(input('Quantos cookies você quer?'))\n",
    "    except:\n",
    "        print('Valor incorreto')\n",
    "    else:        \n",
    "        print(Cookie(cQtd))\n",
    "    break"
   ]
  }
 ],
 "metadata": {
  "kernelspec": {
   "display_name": "Python 3",
   "language": "python",
   "name": "python3"
  },
  "language_info": {
   "codemirror_mode": {
    "name": "ipython",
    "version": 3
   },
   "file_extension": ".py",
   "mimetype": "text/x-python",
   "name": "python",
   "nbconvert_exporter": "python",
   "pygments_lexer": "ipython3",
   "version": "3.7.2"
  }
 },
 "nbformat": 4,
 "nbformat_minor": 2
}
