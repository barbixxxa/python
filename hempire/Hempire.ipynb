{
 "cells": [
  {
   "cell_type": "markdown",
   "metadata": {},
   "source": [
    "#4 cookies - 3 manteiga + 6 skunk\n",
    "#4 torta - 3 farinha + 12 arabe\n",
    "#4 donut - 3 marsh + 8 azul\n",
    "\n",
    "#2 manteiga - 6 arabe\n",
    "#2 farinha - 6 skunk\n",
    "#2 marsh - 5 azul\n",
    "\n",
    "#2 kief - 8 azul"
   ]
  },
  {
   "cell_type": "code",
   "execution_count": 31,
   "metadata": {},
   "outputs": [],
   "source": [
    "class Arabe:\n",
    "    def __init__(self, qtd = 1):\n",
    "        self.name = \"Afghani\"\n",
    "        self. qtd = qtd\n",
    "        \n",
    "    def __str__(self):\n",
    "        return self.name    \n",
    "    \n",
    "    def add(self, qtd = 0):\n",
    "        self.qtd += qtd"
   ]
  },
  {
   "cell_type": "code",
   "execution_count": 2,
   "metadata": {},
   "outputs": [],
   "source": [
    "class Skunk:\n",
    "    def __init__(self, qtd = 1):\n",
    "        self.name = \"Skunk Nª1\"\n",
    "        self.qtd = qtd\n",
    "        \n",
    "    def __str__(self):\n",
    "        return self.name"
   ]
  },
  {
   "cell_type": "code",
   "execution_count": 3,
   "metadata": {},
   "outputs": [],
   "source": [
    "class Azul:\n",
    "    def __init__(self, qtd = 1):\n",
    "        self.name = \"Northern Lights\"\n",
    "        self.qtd = qtd\n",
    "        \n",
    "    def __str__(self):\n",
    "        return self.name"
   ]
  },
  {
   "cell_type": "code",
   "execution_count": 4,
   "metadata": {},
   "outputs": [],
   "source": [
    "class Cachorro:\n",
    "    def __init__(self, qtd = 1):\n",
    "        self.name = \"Chemdawg\"\n",
    "        self.qtd = qtd\n",
    "        \n",
    "    def __str__(self):\n",
    "        return self.name"
   ]
  },
  {
   "cell_type": "code",
   "execution_count": 5,
   "metadata": {},
   "outputs": [],
   "source": [
    "class Rosa:\n",
    "    def __init__(self, qtd = 1):\n",
    "        self.name = \"Hindu Kush\"\n",
    "        self.qtd = qtd\n",
    "        \n",
    "    def __str__(self):\n",
    "        return self.name"
   ]
  },
  {
   "cell_type": "code",
   "execution_count": 6,
   "metadata": {},
   "outputs": [],
   "source": [
    "class Vermelha:\n",
    "    def __init__(self, qtd = 1):\n",
    "        self.name = \"Sour Diesel\"\n",
    "        self.qtd = qtd\n",
    "        \n",
    "    def __str__(self):\n",
    "        return self.name"
   ]
  },
  {
   "cell_type": "code",
   "execution_count": 44,
   "metadata": {},
   "outputs": [],
   "source": [
    "class Manteiga:\n",
    "    \n",
    "    def __init__(self, quantidade = 1):\n",
    "        self.name = 'Manteiga'\n",
    "        self.qtd = quantidade\n",
    "        self.plant = Arabe(6 * quantidade)\n",
    "\n",
    "    def __str__(self):\n",
    "        return \"%s %s precisa de: %s %s\" %(self.qtd, self.name, self.plant.qtd, self.plant.name)\n",
    "    \n",
    "    def getManteiga(self):\n",
    "        return self.plant"
   ]
  },
  {
   "cell_type": "code",
   "execution_count": 45,
   "metadata": {},
   "outputs": [
    {
     "name": "stdout",
     "output_type": "stream",
     "text": [
      "30 Manteiga precisa de: 180 Afghani\n"
     ]
    },
    {
     "data": {
      "text/plain": [
       "<__main__.Arabe at 0x7f68ac6decc0>"
      ]
     },
     "execution_count": 45,
     "metadata": {},
     "output_type": "execute_result"
    }
   ],
   "source": [
    "m = Manteiga(30)\n",
    "print(m)\n",
    "m.getManteiga()"
   ]
  },
  {
   "cell_type": "code",
   "execution_count": 9,
   "metadata": {},
   "outputs": [],
   "source": [
    "class Farinha:\n",
    "    \n",
    "    def __init__(self, quantidade = 1):\n",
    "        self.name = 'Farinha'\n",
    "        self.qtd = quantidade\n",
    "        self.plant = Skunk(6 * quantidade)\n",
    "\n",
    "    def __str__(self):\n",
    "        return \"%s %s precisa de: %s %s\" %(self.qtd, self.name, self.plant.qtd, self.plant.name)\n",
    "    \n",
    "    def getFarinha(self):\n",
    "        return (self.plant.qtd, self.plant.name)"
   ]
  },
  {
   "cell_type": "code",
   "execution_count": 10,
   "metadata": {},
   "outputs": [
    {
     "name": "stdout",
     "output_type": "stream",
     "text": [
      "30 Farinha precisa de: 180 Skunk Nª1\n"
     ]
    },
    {
     "data": {
      "text/plain": [
       "(180, 'Skunk Nª1')"
      ]
     },
     "execution_count": 10,
     "metadata": {},
     "output_type": "execute_result"
    }
   ],
   "source": [
    "f = Farinha(30)\n",
    "print(f)\n",
    "f.getFarinha()"
   ]
  },
  {
   "cell_type": "code",
   "execution_count": 11,
   "metadata": {},
   "outputs": [],
   "source": [
    "class Marshmellow:\n",
    "    \n",
    "    def __init__(self, quantidade = 1):\n",
    "        self.name = 'Marijmellow'\n",
    "        self.qtd = quantidade\n",
    "        self.plant = Azul(5 * quantidade)\n",
    "\n",
    "    def __str__(self):\n",
    "        return \"%s %s precisa de: %s %s\" %(self.qtd, self.name, self.plant.qtd, self.plant.name)\n",
    "    \n",
    "    def getMarsh(self):\n",
    "        return (self.plant.qtd, self.plant.name)"
   ]
  },
  {
   "cell_type": "code",
   "execution_count": 12,
   "metadata": {},
   "outputs": [
    {
     "name": "stdout",
     "output_type": "stream",
     "text": [
      "30 Marijmellow precisa de: 150 Northern Lights\n"
     ]
    },
    {
     "data": {
      "text/plain": [
       "(150, 'Northern Lights')"
      ]
     },
     "execution_count": 12,
     "metadata": {},
     "output_type": "execute_result"
    }
   ],
   "source": [
    "m = Marshmellow(30)\n",
    "print(m)\n",
    "m.getMarsh()"
   ]
  },
  {
   "cell_type": "code",
   "execution_count": 13,
   "metadata": {},
   "outputs": [],
   "source": [
    "class Cookie:\n",
    "    \n",
    "    def __init__(self, quantidade = 1):\n",
    "        self.name = 'Cookie'\n",
    "        self.qtd = quantidade\n",
    "        self.plant = Skunk(6 * quantidade)\n",
    "        self.especial = Manteiga(3 * quantidade)\n",
    "    \n",
    "    def __str__(self):\n",
    "        return \"%s %s precisa de: %s %s + %s %s (%s %s)\" %(self.qtd, self.name, self.plant.qtd, self.plant.name, self.especial.qtd, self.especial.name, self.especial.plant.qtd, self.especial.plant.name)\n",
    "    \n",
    "    def getCookie(self):\n",
    "        return (self.plant.qtd, self.plant.name, self.especial.plant.qtd, self.especial.plant.name)\n",
    "    "
   ]
  },
  {
   "cell_type": "code",
   "execution_count": 14,
   "metadata": {},
   "outputs": [
    {
     "name": "stdout",
     "output_type": "stream",
     "text": [
      "10 Cookie precisa de: 60 Skunk Nª1 + 30 Manteiga (180 Afghani)\n",
      "(60, 'Skunk Nª1', 180, 'Afghani')\n"
     ]
    }
   ],
   "source": [
    "c = Cookie(10)\n",
    "print(c)\n",
    "r = c.getCookie()\n",
    "print(r)"
   ]
  },
  {
   "cell_type": "code",
   "execution_count": 15,
   "metadata": {},
   "outputs": [],
   "source": [
    "class Torta:\n",
    "    \n",
    "    def __init__(self, quantidade = 1):\n",
    "        self.name = 'Tortaconha'\n",
    "        self.qtd = quantidade\n",
    "        self.plant = Arabe(12 * quantidade)\n",
    "        self.especial = Farinha(3 * quantidade)\n",
    "    \n",
    "    def __str__(self):\n",
    "        return \"%s %s precisa de: %s %s + %s %s (%s %s)\" %(self.qtd, self.name, self.plant.qtd, self.plant.name, self.especial.qtd, self.especial.name, self.especial.plant.qtd, self.especial.plant.name)\n",
    "    \n",
    "    def getTorta(self):\n",
    "        return (self.plant.qtd, self.plant.name, self.especial.plant.qtd, self.especial.plant.name)\n",
    "    "
   ]
  },
  {
   "cell_type": "code",
   "execution_count": 16,
   "metadata": {},
   "outputs": [
    {
     "name": "stdout",
     "output_type": "stream",
     "text": [
      "10 Tortaconha precisa de: 120 Afghani + 30 Farinha (180 Skunk Nª1)\n"
     ]
    },
    {
     "data": {
      "text/plain": [
       "(120, 'Afghani', 180, 'Skunk Nª1')"
      ]
     },
     "execution_count": 16,
     "metadata": {},
     "output_type": "execute_result"
    }
   ],
   "source": [
    "t = Torta(10)\n",
    "print(t)\n",
    "t.getTorta()"
   ]
  },
  {
   "cell_type": "code",
   "execution_count": 17,
   "metadata": {},
   "outputs": [],
   "source": [
    "class Donut:\n",
    "    \n",
    "    def __init__(self, quantidade = 1):\n",
    "        self.name = 'Donut'\n",
    "        self.qtd = quantidade\n",
    "        self.plant = Azul(8 * quantidade)\n",
    "        self.especial = Marshmellow(3 * quantidade)\n",
    "    \n",
    "    def __str__(self):\n",
    "        return \"%s %s precisa de: %s %s + %s %s (%s %s)\" %(self.qtd, self.name, self.plant.qtd, self.plant.name, self.especial.qtd, self.especial.name, self.especial.plant.qtd, self.especial.plant.name)\n",
    "    \n",
    "    def getDonut(self):\n",
    "        return (self.plant.qtd, self.plant.name, self.especial.plant.qtd, self.especial.plant.name)\n",
    "    "
   ]
  },
  {
   "cell_type": "code",
   "execution_count": 18,
   "metadata": {},
   "outputs": [
    {
     "name": "stdout",
     "output_type": "stream",
     "text": [
      "10 Donut precisa de: 80 Northern Lights + 30 Marijmellow (150 Northern Lights)\n"
     ]
    },
    {
     "data": {
      "text/plain": [
       "(80, 'Northern Lights', 150, 'Northern Lights')"
      ]
     },
     "execution_count": 18,
     "metadata": {},
     "output_type": "execute_result"
    }
   ],
   "source": [
    "d = Donut(10)\n",
    "print(d)\n",
    "d.getDonut()"
   ]
  },
  {
   "cell_type": "code",
   "execution_count": 19,
   "metadata": {},
   "outputs": [],
   "source": [
    "class Kief:\n",
    "    \n",
    "    def __init__(self, quantidade = 1):\n",
    "        self.name = 'Kief'\n",
    "        self.qtd = quantidade\n",
    "        self.plant = Azul(8 * quantidade)\n",
    "\n",
    "    def __str__(self):\n",
    "        return \"%s %s precisa de: %s %s\" %(self.qtd, self.name, self.plant.qtd, self.plant.name)\n",
    "    \n",
    "    def getKief(self):\n",
    "        return (self.plant.qtd, self.plant.name)"
   ]
  },
  {
   "cell_type": "code",
   "execution_count": 22,
   "metadata": {},
   "outputs": [
    {
     "name": "stdout",
     "output_type": "stream",
     "text": [
      "10 Kief precisa de: 80 Northern Lights\n"
     ]
    },
    {
     "data": {
      "text/plain": [
       "(80, 'Northern Lights')"
      ]
     },
     "execution_count": 22,
     "metadata": {},
     "output_type": "execute_result"
    }
   ],
   "source": [
    "k = Kief(10)\n",
    "print(k)\n",
    "k.getKief()"
   ]
  },
  {
   "cell_type": "code",
   "execution_count": 35,
   "metadata": {},
   "outputs": [],
   "source": [
    "class Carrinho:\n",
    "    def __init__(self):\n",
    "        self.arabe = Arabe(0)\n",
    "        self.skunk = Skunk(0)\n",
    "        self.azul = Azul(0)\n",
    "        self.cachorro = Cachorro(0)\n",
    "        self.rosa = Rosa(0)\n",
    "        self.vermelha = Vermelha(0)\n",
    "        \n",
    "    def getCarrinho(self):\n",
    "        return (self.arabe.qtd, self.arabe.name, self.skunk.qtd, self.skunk.name, self.azul.qtd, self.azul.name, self.cachorro.qtd, self.cachorro.name, self.rosa.qtd, self.rosa.name, self.vermelha.qtd, self.vermelha.name)\n",
    "    \n",
    "    def add(self, qtd, name):\n",
    "        if name == self.arabe.name:\n",
    "            self.arabe.add(qtd)"
   ]
  },
  {
   "cell_type": "code",
   "execution_count": 42,
   "metadata": {},
   "outputs": [
    {
     "data": {
      "text/plain": [
       "(1,\n",
       " 'Afghani',\n",
       " 0,\n",
       " 'Skunk Nª1',\n",
       " 0,\n",
       " 'Northern Lights',\n",
       " 0,\n",
       " 'Chemdawg',\n",
       " 0,\n",
       " 'Hindu Kush',\n",
       " 0,\n",
       " 'Sour Diesel')"
      ]
     },
     "execution_count": 42,
     "metadata": {},
     "output_type": "execute_result"
    }
   ],
   "source": [
    "car = Carrinho()\n",
    "car.add(1,'Afghani')\n",
    "car.getCarrinho()"
   ]
  },
  {
   "cell_type": "code",
   "execution_count": 21,
   "metadata": {},
   "outputs": [
    {
     "name": "stdout",
     "output_type": "stream",
     "text": [
      "Quanto você quer produzir?\n",
      "15\n",
      "O que você quer produzir?\n",
      "0 - Manteiga\n",
      "1 - Farinha\n",
      "2 - Donut\n",
      "3 - Marijmellow\n",
      "4 - Cookie\n",
      "5 - Tortaconha\n",
      "6 - Donut\n",
      "7 - Kief\n",
      "5\n",
      "15 Tortaconha precisa de: 180 Afghani + 45 Farinha (270 Skunk Nª1)\n"
     ]
    }
   ],
   "source": [
    "car = Carrinho()\n",
    "while True:\n",
    "    try:\n",
    "        qtd = int(input('Quanto você quer produzir?\\n'))\n",
    "    except:\n",
    "        print('Valor incorreto')\n",
    "    else:\n",
    "        while True:\n",
    "            try:\n",
    "                cod = int(input('O que você quer produzir?\\n0 - Manteiga\\n1 - Farinha\\n2 - Donut\\n3 - Marijmellow\\n4 - Cookie\\n5 - Tortaconha\\n6 - Donut\\n7 - Kief\\n'))\n",
    "            except:\n",
    "                print('Valor incorreto')\n",
    "            else:       \n",
    "                if cod == 0:\n",
    "                    m = Manteiga(qtd)\n",
    "                    break\n",
    "                elif cod == 1:\n",
    "                    print(Farinha(qtd))\n",
    "                    break\n",
    "                elif cod == 2:\n",
    "                    print(Donut(qtd))\n",
    "                    break\n",
    "                elif cod == 3:\n",
    "                    print(Marshmellow(qtd))\n",
    "                    break\n",
    "                elif cod == 4:\n",
    "                    print(Cookie(qtd))\n",
    "                    break\n",
    "                elif cod == 5:\n",
    "                    print(Torta(qtd))\n",
    "                    break\n",
    "                elif cod == 6:\n",
    "                    print(Donut(qtd))\n",
    "                    break\n",
    "                elif cod == 7:\n",
    "                    print(Kief(qtd))\n",
    "                    break\n",
    "                else:\n",
    "                    continue\n",
    "    break"
   ]
  },
  {
   "cell_type": "code",
   "execution_count": null,
   "metadata": {},
   "outputs": [],
   "source": []
  }
 ],
 "metadata": {
  "kernelspec": {
   "display_name": "Python 3",
   "language": "python",
   "name": "python3"
  },
  "language_info": {
   "codemirror_mode": {
    "name": "ipython",
    "version": 3
   },
   "file_extension": ".py",
   "mimetype": "text/x-python",
   "name": "python",
   "nbconvert_exporter": "python",
   "pygments_lexer": "ipython3",
   "version": "3.7.2"
  }
 },
 "nbformat": 4,
 "nbformat_minor": 2
}
